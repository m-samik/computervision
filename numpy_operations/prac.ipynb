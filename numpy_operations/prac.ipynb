{
 "cells": [
  {
   "cell_type": "code",
   "execution_count": 1,
   "id": "2bbfb33d",
   "metadata": {},
   "outputs": [],
   "source": [
    "import cv2\n",
    "import numpy as np"
   ]
  },
  {
   "cell_type": "code",
   "execution_count": 2,
   "id": "05462466",
   "metadata": {},
   "outputs": [],
   "source": [
    "image=cv2.imread(\"elonmusk.jpg\")\n",
    "\n",
    "image2= cv2.imread(\"jeff.jpg\")"
   ]
  },
  {
   "cell_type": "code",
   "execution_count": 3,
   "id": "9381911f",
   "metadata": {},
   "outputs": [],
   "source": [
    "elon_face= image[100 : 350  , 150: 350 ] \n",
    "jeff=image2[100 : 350  , 150: 350 ]"
   ]
  },
  {
   "cell_type": "code",
   "execution_count": 4,
   "id": "ae4d143b",
   "metadata": {},
   "outputs": [],
   "source": [
    "image[100 : 350  , 150: 350 ] = jeff"
   ]
  },
  {
   "cell_type": "code",
   "execution_count": 5,
   "id": "91698cad",
   "metadata": {},
   "outputs": [],
   "source": [
    "cv2.imshow(\"Text\" , image)\n",
    "cv2.waitKey()\n",
    "cv2.destroyAllWindows()\n"
   ]
  },
  {
   "cell_type": "code",
   "execution_count": null,
   "id": "a4d6ea39",
   "metadata": {},
   "outputs": [],
   "source": []
  }
 ],
 "metadata": {
  "kernelspec": {
   "display_name": "Python 3",
   "language": "python",
   "name": "python3"
  },
  "language_info": {
   "codemirror_mode": {
    "name": "ipython",
    "version": 3
   },
   "file_extension": ".py",
   "mimetype": "text/x-python",
   "name": "python",
   "nbconvert_exporter": "python",
   "pygments_lexer": "ipython3",
   "version": "3.8.5"
  }
 },
 "nbformat": 4,
 "nbformat_minor": 5
}
