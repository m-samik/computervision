{
 "cells": [
  {
   "cell_type": "code",
   "execution_count": 1,
   "id": "36f0af10",
   "metadata": {},
   "outputs": [],
   "source": [
    "import cv2\n",
    "import numpy as np"
   ]
  },
  {
   "cell_type": "code",
   "execution_count": 2,
   "id": "71cc3670",
   "metadata": {},
   "outputs": [],
   "source": [
    "image1=cv2.imread(\"elonmusk.jpg\")\n",
    "image2=cv2.imread(\"jeff.jpg\")"
   ]
  },
  {
   "cell_type": "code",
   "execution_count": 3,
   "id": "c0878e00",
   "metadata": {},
   "outputs": [],
   "source": [
    "# cropping picture [ from 0 row to end ,  from 500 column to end]\n",
    "#image=image[ 0 : , 500:]\n"
   ]
  },
  {
   "cell_type": "code",
   "execution_count": 4,
   "id": "9d0b1c36",
   "metadata": {},
   "outputs": [],
   "source": [
    "final_image=np.hstack((image1,image2))"
   ]
  },
  {
   "cell_type": "code",
   "execution_count": 6,
   "id": "df5f0286",
   "metadata": {},
   "outputs": [],
   "source": [
    "cv2.imshow(\"Test\" , final_image)\n",
    "cv2.waitKey()\n",
    "cv2.destroyAllWindows()"
   ]
  },
  {
   "cell_type": "code",
   "execution_count": null,
   "id": "1ddb522e",
   "metadata": {},
   "outputs": [],
   "source": []
  }
 ],
 "metadata": {
  "kernelspec": {
   "display_name": "Python 3",
   "language": "python",
   "name": "python3"
  },
  "language_info": {
   "codemirror_mode": {
    "name": "ipython",
    "version": 3
   },
   "file_extension": ".py",
   "mimetype": "text/x-python",
   "name": "python",
   "nbconvert_exporter": "python",
   "pygments_lexer": "ipython3",
   "version": "3.8.5"
  }
 },
 "nbformat": 4,
 "nbformat_minor": 5
}
