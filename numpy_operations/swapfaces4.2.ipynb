{
 "cells": [
  {
   "cell_type": "code",
   "execution_count": null,
   "id": "a15ac1dd",
   "metadata": {},
   "outputs": [],
   "source": [
    "import cv2\n",
    "import numpy as np\n",
    "\n",
    "\n"
   ]
  },
  {
   "cell_type": "code",
   "execution_count": null,
   "id": "d4c632b1",
   "metadata": {},
   "outputs": [],
   "source": [
    "image=cv2.imread(\"swap.png\")"
   ]
  },
  {
   "cell_type": "code",
   "execution_count": null,
   "id": "becb403b",
   "metadata": {},
   "outputs": [],
   "source": [
    "eloncropped=image[90:325 , 150:320]\n",
    "jeffcropped=image[90:325 , 600:770]"
   ]
  },
  {
   "cell_type": "code",
   "execution_count": null,
   "id": "3cdccfc3",
   "metadata": {},
   "outputs": [],
   "source": [
    "image[90:325 , 150:320] = jeffcropped"
   ]
  },
  {
   "cell_type": "code",
   "execution_count": null,
   "id": "9378d362",
   "metadata": {},
   "outputs": [],
   "source": [
    "cv2.imshow(\"SWAP\" , image)\n",
    "cv2.waitKey()\n",
    "cv2.destroyAllWindows()"
   ]
  },
  {
   "cell_type": "code",
   "execution_count": null,
   "id": "3c508863",
   "metadata": {},
   "outputs": [],
   "source": [
    "cv2.imwrite(\"swap_temp.png\" , image)"
   ]
  },
  {
   "cell_type": "code",
   "execution_count": null,
   "id": "b0870933",
   "metadata": {},
   "outputs": [],
   "source": [
    "temping=cv2.imread(\"swap.png\")\n",
    "eloncropped = temping[90:325 , 150:320]\n"
   ]
  },
  {
   "cell_type": "code",
   "execution_count": null,
   "id": "d9539923",
   "metadata": {},
   "outputs": [],
   "source": [
    "image=cv2.imread(\"swap_temp.png\")\n",
    "image[90:325 , 600:770] = eloncropped"
   ]
  },
  {
   "cell_type": "code",
   "execution_count": null,
   "id": "d112440a",
   "metadata": {},
   "outputs": [],
   "source": [
    "cv2.imshow(\"SWAP\" , image)\n",
    "cv2.waitKey()\n",
    "cv2.destroyAllWindows()"
   ]
  },
  {
   "cell_type": "code",
   "execution_count": 1,
   "id": "c01937ec",
   "metadata": {},
   "outputs": [],
   "source": [
    "a=10\n",
    "b=10"
   ]
  },
  {
   "cell_type": "code",
   "execution_count": 2,
   "id": "6537f33b",
   "metadata": {},
   "outputs": [
    {
     "data": {
      "text/plain": [
       "9781088"
      ]
     },
     "execution_count": 2,
     "metadata": {},
     "output_type": "execute_result"
    }
   ],
   "source": [
    "id(a)"
   ]
  },
  {
   "cell_type": "code",
   "execution_count": 3,
   "id": "6de6b1bd",
   "metadata": {},
   "outputs": [
    {
     "data": {
      "text/plain": [
       "9781088"
      ]
     },
     "execution_count": 3,
     "metadata": {},
     "output_type": "execute_result"
    }
   ],
   "source": [
    "id(b)"
   ]
  },
  {
   "cell_type": "code",
   "execution_count": null,
   "id": "a60144f0",
   "metadata": {},
   "outputs": [],
   "source": []
  }
 ],
 "metadata": {
  "kernelspec": {
   "display_name": "Python 3",
   "language": "python",
   "name": "python3"
  },
  "language_info": {
   "codemirror_mode": {
    "name": "ipython",
    "version": 3
   },
   "file_extension": ".py",
   "mimetype": "text/x-python",
   "name": "python",
   "nbconvert_exporter": "python",
   "pygments_lexer": "ipython3",
   "version": "3.8.5"
  }
 },
 "nbformat": 4,
 "nbformat_minor": 5
}
