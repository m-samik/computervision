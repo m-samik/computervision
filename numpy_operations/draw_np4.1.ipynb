{
 "cells": [
  {
   "cell_type": "code",
   "execution_count": 152,
   "id": "14e2cf0c",
   "metadata": {},
   "outputs": [],
   "source": [
    "import cv2 \n",
    "import numpy as np"
   ]
  },
  {
   "cell_type": "code",
   "execution_count": 153,
   "id": "f904baaf",
   "metadata": {},
   "outputs": [],
   "source": [
    "image=np.zeros((662,935,3))"
   ]
  },
  {
   "cell_type": "code",
   "execution_count": 154,
   "id": "ef470d6e",
   "metadata": {},
   "outputs": [
    {
     "data": {
      "text/plain": [
       "(662, 935, 3)"
      ]
     },
     "execution_count": 154,
     "metadata": {},
     "output_type": "execute_result"
    }
   ],
   "source": [
    "image.shape\n"
   ]
  },
  {
   "cell_type": "code",
   "execution_count": 155,
   "id": "7039273e",
   "metadata": {},
   "outputs": [],
   "source": [
    "#image[0:200,0:150] = [225,225,0] #header\n",
    "#image[330:400 , 300 : 700] = [0,255,255]\n",
    "\n",
    "image[400: , ]= [225,225,0] #footer\n",
    "image[  : 400 ,  300:400 ] = [0,255,255] # | shape L\n",
    "image[330:400 , 300 : 700] = [0,255,255] # - shape L\n"
   ]
  },
  {
   "cell_type": "code",
   "execution_count": 156,
   "id": "0010f09d",
   "metadata": {},
   "outputs": [],
   "source": [
    "cv2.imshow(\"Image\", image)\n",
    "cv2.waitKey()\n",
    "cv2.destroyAllWindows()"
   ]
  },
  {
   "cell_type": "code",
   "execution_count": null,
   "id": "b86715bc",
   "metadata": {},
   "outputs": [],
   "source": []
  }
 ],
 "metadata": {
  "kernelspec": {
   "display_name": "Python 3",
   "language": "python",
   "name": "python3"
  },
  "language_info": {
   "codemirror_mode": {
    "name": "ipython",
    "version": 3
   },
   "file_extension": ".py",
   "mimetype": "text/x-python",
   "name": "python",
   "nbconvert_exporter": "python",
   "pygments_lexer": "ipython3",
   "version": "3.8.5"
  }
 },
 "nbformat": 4,
 "nbformat_minor": 5
}
