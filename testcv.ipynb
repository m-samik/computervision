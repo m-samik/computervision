{
 "cells": [
  {
   "cell_type": "code",
   "execution_count": 66,
   "id": "47a0f04b",
   "metadata": {},
   "outputs": [],
   "source": [
    "import cv2"
   ]
  },
  {
   "cell_type": "code",
   "execution_count": 67,
   "id": "87ded23a",
   "metadata": {},
   "outputs": [],
   "source": [
    "image=cv2.imread(\"swap.png\")"
   ]
  },
  {
   "cell_type": "code",
   "execution_count": 71,
   "id": "f18055e2",
   "metadata": {},
   "outputs": [
    {
     "data": {
      "text/plain": [
       "array([[[184, 189, 188],\n",
       "        [184, 189, 188],\n",
       "        [184, 189, 188],\n",
       "        ...,\n",
       "        [110, 118, 118],\n",
       "        [114, 119, 118],\n",
       "        [116, 118, 118]],\n",
       "\n",
       "       [[184, 189, 188],\n",
       "        [184, 189, 188],\n",
       "        [184, 189, 188],\n",
       "        ...,\n",
       "        [116, 124, 124],\n",
       "        [118, 123, 122],\n",
       "        [120, 122, 122]],\n",
       "\n",
       "       [[184, 189, 188],\n",
       "        [184, 189, 188],\n",
       "        [184, 189, 188],\n",
       "        ...,\n",
       "        [116, 124, 124],\n",
       "        [119, 124, 123],\n",
       "        [119, 124, 123]],\n",
       "\n",
       "       ...,\n",
       "\n",
       "       [[  0,   0,   0],\n",
       "        [ 24,  18,  19],\n",
       "        [ 24,  18,  19],\n",
       "        ...,\n",
       "        [ 42,  26,  18],\n",
       "        [ 42,  26,  19],\n",
       "        [ 42,  26,  19]],\n",
       "\n",
       "       [[  0,   0,   0],\n",
       "        [ 24,  18,  19],\n",
       "        [ 25,  19,  20],\n",
       "        ...,\n",
       "        [ 42,  26,  19],\n",
       "        [ 43,  27,  20],\n",
       "        [ 42,  26,  19]],\n",
       "\n",
       "       [[  0,   0,   0],\n",
       "        [ 25,  19,  20],\n",
       "        [ 25,  19,  20],\n",
       "        ...,\n",
       "        [ 44,  28,  21],\n",
       "        [ 43,  27,  20],\n",
       "        [ 40,  24,  17]]], dtype=uint8)"
      ]
     },
     "execution_count": 71,
     "metadata": {},
     "output_type": "execute_result"
    }
   ],
   "source": [
    "cv2.rectangle(image,(120,120) ,(350,350),[0,0,255] , 5)"
   ]
  },
  {
   "cell_type": "code",
   "execution_count": 74,
   "id": "b3c95e00",
   "metadata": {},
   "outputs": [
    {
     "data": {
      "text/plain": [
       "array([[[184, 189, 188],\n",
       "        [184, 189, 188],\n",
       "        [184, 189, 188],\n",
       "        ...,\n",
       "        [110, 118, 118],\n",
       "        [114, 119, 118],\n",
       "        [116, 118, 118]],\n",
       "\n",
       "       [[184, 189, 188],\n",
       "        [184, 189, 188],\n",
       "        [184, 189, 188],\n",
       "        ...,\n",
       "        [116, 124, 124],\n",
       "        [118, 123, 122],\n",
       "        [120, 122, 122]],\n",
       "\n",
       "       [[184, 189, 188],\n",
       "        [184, 189, 188],\n",
       "        [184, 189, 188],\n",
       "        ...,\n",
       "        [116, 124, 124],\n",
       "        [119, 124, 123],\n",
       "        [119, 124, 123]],\n",
       "\n",
       "       ...,\n",
       "\n",
       "       [[  0,   0,   0],\n",
       "        [ 24,  18,  19],\n",
       "        [ 24,  18,  19],\n",
       "        ...,\n",
       "        [ 42,  26,  18],\n",
       "        [ 42,  26,  19],\n",
       "        [ 42,  26,  19]],\n",
       "\n",
       "       [[  0,   0,   0],\n",
       "        [ 24,  18,  19],\n",
       "        [ 25,  19,  20],\n",
       "        ...,\n",
       "        [ 42,  26,  19],\n",
       "        [ 43,  27,  20],\n",
       "        [ 42,  26,  19]],\n",
       "\n",
       "       [[  0,   0,   0],\n",
       "        [ 25,  19,  20],\n",
       "        [ 25,  19,  20],\n",
       "        ...,\n",
       "        [ 44,  28,  21],\n",
       "        [ 43,  27,  20],\n",
       "        [ 40,  24,  17]]], dtype=uint8)"
      ]
     },
     "execution_count": 74,
     "metadata": {},
     "output_type": "execute_result"
    }
   ],
   "source": [
    "cv2.rectangle(image,(800,120) ,(600,350),[0,255,255] , 5)"
   ]
  },
  {
   "cell_type": "code",
   "execution_count": 76,
   "id": "f7b9a129",
   "metadata": {},
   "outputs": [],
   "source": [
    "cv2.imshow('Image',image)\n",
    "cv2.waitKey()\n",
    "cv2.destroyAllWindows()"
   ]
  },
  {
   "cell_type": "code",
   "execution_count": null,
   "id": "5d4ed35d",
   "metadata": {},
   "outputs": [],
   "source": []
  },
  {
   "cell_type": "code",
   "execution_count": null,
   "id": "afdca3da",
   "metadata": {},
   "outputs": [],
   "source": []
  }
 ],
 "metadata": {
  "kernelspec": {
   "display_name": "Python 3",
   "language": "python",
   "name": "python3"
  },
  "language_info": {
   "codemirror_mode": {
    "name": "ipython",
    "version": 3
   },
   "file_extension": ".py",
   "mimetype": "text/x-python",
   "name": "python",
   "nbconvert_exporter": "python",
   "pygments_lexer": "ipython3",
   "version": "3.8.5"
  }
 },
 "nbformat": 4,
 "nbformat_minor": 5
}
