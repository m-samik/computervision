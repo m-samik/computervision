{
 "cells": [
  {
   "cell_type": "code",
   "execution_count": null,
   "id": "47a0f04b",
   "metadata": {},
   "outputs": [],
   "source": [
    "import cv2"
   ]
  },
  {
   "cell_type": "code",
   "execution_count": null,
   "id": "87ded23a",
   "metadata": {},
   "outputs": [],
   "source": [
    "image=cv2.imread(\"swap.png\")"
   ]
  },
  {
   "cell_type": "code",
   "execution_count": null,
   "id": "f18055e2",
   "metadata": {},
   "outputs": [],
   "source": [
    "#cv2.rectangle(image,(120,120) ,(350,350),[0,0,255] , 5)  ==elonmusk"
   ]
  },
  {
   "cell_type": "code",
   "execution_count": null,
   "id": "b3c95e00",
   "metadata": {},
   "outputs": [],
   "source": [
    "#cv2.rectangle(image,(800,120) ,(600,350),[0,255,255] , 5) ==jeffbezos"
   ]
  },
  {
   "cell_type": "code",
   "execution_count": 10,
   "id": "f7b9a129",
   "metadata": {},
   "outputs": [],
   "source": [
    "cv2.imshow('Image',image)\n",
    "cv2.waitKey()\n",
    "cv2.destroyAllWindows()"
   ]
  },
  {
   "cell_type": "code",
   "execution_count": 6,
   "id": "5d4ed35d",
   "metadata": {},
   "outputs": [],
   "source": [
    "model=cv2.CascadeClassifier('haarcascade_frontalface_default.xml')"
   ]
  },
  {
   "cell_type": "code",
   "execution_count": 7,
   "id": "afdca3da",
   "metadata": {},
   "outputs": [],
   "source": [
    "faces= model.detectMultiScale(image)"
   ]
  },
  {
   "cell_type": "code",
   "execution_count": 8,
   "id": "3d16f6a8",
   "metadata": {},
   "outputs": [
    {
     "data": {
      "text/plain": [
       "3"
      ]
     },
     "execution_count": 8,
     "metadata": {},
     "output_type": "execute_result"
    }
   ],
   "source": [
    "len(faces)"
   ]
  },
  {
   "cell_type": "code",
   "execution_count": 11,
   "id": "96553a0d",
   "metadata": {},
   "outputs": [
    {
     "data": {
      "text/plain": [
       "array([[592,  74, 240, 240],\n",
       "       [141, 127, 194, 194],\n",
       "       [655, 281, 122, 122]], dtype=int32)"
      ]
     },
     "execution_count": 11,
     "metadata": {},
     "output_type": "execute_result"
    }
   ],
   "source": [
    "faces"
   ]
  },
  {
   "cell_type": "code",
   "execution_count": 13,
   "id": "0740aac2",
   "metadata": {},
   "outputs": [
    {
     "data": {
      "text/plain": [
       "592"
      ]
     },
     "execution_count": 13,
     "metadata": {},
     "output_type": "execute_result"
    }
   ],
   "source": [
    "faces[0][0]"
   ]
  },
  {
   "cell_type": "code",
   "execution_count": null,
   "id": "f5d0b216",
   "metadata": {},
   "outputs": [],
   "source": [
    "faces.shape"
   ]
  },
  {
   "cell_type": "code",
   "execution_count": null,
   "id": "f59c22e1",
   "metadata": {},
   "outputs": [],
   "source": [
    "#faces[0][1]\n",
    "\n",
    "\n",
    "for i in faces:\n",
    "    print(\"Faces \", i[0], i[2], i[3])"
   ]
  },
  {
   "cell_type": "code",
   "execution_count": null,
   "id": "f7eb517c",
   "metadata": {},
   "outputs": [],
   "source": [
    "a = range(3)"
   ]
  },
  {
   "cell_type": "code",
   "execution_count": null,
   "id": "b6cd985b",
   "metadata": {},
   "outputs": [],
   "source": [
    "print(a[0])"
   ]
  },
  {
   "cell_type": "code",
   "execution_count": 9,
   "id": "7d875e36",
   "metadata": {},
   "outputs": [
    {
     "data": {
      "text/plain": [
       "array([[[184, 189, 188],\n",
       "        [184, 189, 188],\n",
       "        [184, 189, 188],\n",
       "        ...,\n",
       "        [110, 118, 118],\n",
       "        [114, 119, 118],\n",
       "        [116, 118, 118]],\n",
       "\n",
       "       [[184, 189, 188],\n",
       "        [184, 189, 188],\n",
       "        [184, 189, 188],\n",
       "        ...,\n",
       "        [116, 124, 124],\n",
       "        [118, 123, 122],\n",
       "        [120, 122, 122]],\n",
       "\n",
       "       [[184, 189, 188],\n",
       "        [184, 189, 188],\n",
       "        [184, 189, 188],\n",
       "        ...,\n",
       "        [116, 124, 124],\n",
       "        [119, 124, 123],\n",
       "        [119, 124, 123]],\n",
       "\n",
       "       ...,\n",
       "\n",
       "       [[  0,   0,   0],\n",
       "        [ 24,  18,  19],\n",
       "        [ 24,  18,  19],\n",
       "        ...,\n",
       "        [ 42,  26,  18],\n",
       "        [ 42,  26,  19],\n",
       "        [ 42,  26,  19]],\n",
       "\n",
       "       [[  0,   0,   0],\n",
       "        [ 24,  18,  19],\n",
       "        [ 25,  19,  20],\n",
       "        ...,\n",
       "        [ 42,  26,  19],\n",
       "        [ 43,  27,  20],\n",
       "        [ 42,  26,  19]],\n",
       "\n",
       "       [[  0,   0,   0],\n",
       "        [ 25,  19,  20],\n",
       "        [ 25,  19,  20],\n",
       "        ...,\n",
       "        [ 44,  28,  21],\n",
       "        [ 43,  27,  20],\n",
       "        [ 40,  24,  17]]], dtype=uint8)"
      ]
     },
     "execution_count": 9,
     "metadata": {},
     "output_type": "execute_result"
    }
   ],
   "source": [
    "cv2.rectangle(image,(655,281) ,(777,404),[0,255,0] , 5)"
   ]
  },
  {
   "cell_type": "code",
   "execution_count": null,
   "id": "bb35c886",
   "metadata": {},
   "outputs": [],
   "source": []
  },
  {
   "cell_type": "code",
   "execution_count": null,
   "id": "9b40e773",
   "metadata": {},
   "outputs": [],
   "source": []
  }
 ],
 "metadata": {
  "kernelspec": {
   "display_name": "Python 3",
   "language": "python",
   "name": "python3"
  },
  "language_info": {
   "codemirror_mode": {
    "name": "ipython",
    "version": 3
   },
   "file_extension": ".py",
   "mimetype": "text/x-python",
   "name": "python",
   "nbconvert_exporter": "python",
   "pygments_lexer": "ipython3",
   "version": "3.8.5"
  }
 },
 "nbformat": 4,
 "nbformat_minor": 5
}
