{
 "cells": [
  {
   "cell_type": "code",
   "execution_count": 75,
   "id": "ac43d35a",
   "metadata": {},
   "outputs": [],
   "source": [
    "import cv2"
   ]
  },
  {
   "cell_type": "code",
   "execution_count": 76,
   "id": "15b75078",
   "metadata": {},
   "outputs": [],
   "source": [
    "cam=cv2.VideoCapture(0)\n"
   ]
  },
  {
   "cell_type": "code",
   "execution_count": 77,
   "id": "80064983",
   "metadata": {},
   "outputs": [],
   "source": [
    "model=cv2.CascadeClassifier('haarcascade_frontalface_default.xml')"
   ]
  },
  {
   "cell_type": "code",
   "execution_count": 78,
   "id": "7aa5e3ed",
   "metadata": {},
   "outputs": [],
   "source": [
    "while True:\n",
    "    ret,photo=cam.read()\n",
    "    faces= model.detectMultiScale(photo)\n",
    "    for i in faces:\n",
    "        x1=i[0]\n",
    "        y1=i[1]\n",
    "        x2=x1+i[2]\n",
    "        y2=y1+i[3]\n",
    "        cv2.rectangle(photo,(x1,y1) ,(x2,y2),[0,255,0] , 5)\n",
    "    photo=cv2.putText(photo , f\"faces :{len(faces)}\" , (50,50) ,cv2.FONT_HERSHEY_SIMPLEX  ,1 , (0,0,255) , 2 , cv2.LINE_AA)\n",
    "    cv2.imshow(\"My Camo\",photo )\n",
    "    if cv2.waitKey(10) == 13:\n",
    "        break\n",
    "cv2.destroyAllWindows()\n",
    "cam.release()"
   ]
  },
  {
   "cell_type": "code",
   "execution_count": 31,
   "id": "e43e90ca",
   "metadata": {},
   "outputs": [
    {
     "data": {
      "text/plain": [
       "9"
      ]
     },
     "execution_count": 31,
     "metadata": {},
     "output_type": "execute_result"
    }
   ],
   "source": [
    "len(faces)"
   ]
  },
  {
   "cell_type": "code",
   "execution_count": 45,
   "id": "a2f4eb84",
   "metadata": {},
   "outputs": [],
   "source": [
    "cam.release()"
   ]
  },
  {
   "cell_type": "code",
   "execution_count": 57,
   "id": "11862638",
   "metadata": {},
   "outputs": [],
   "source": [
    "name = \"sami\""
   ]
  },
  {
   "cell_type": "code",
   "execution_count": 60,
   "id": "aba22d8e",
   "metadata": {},
   "outputs": [],
   "source": [
    "age = 19"
   ]
  },
  {
   "cell_type": "code",
   "execution_count": 61,
   "id": "d44e383b",
   "metadata": {},
   "outputs": [
    {
     "name": "stdout",
     "output_type": "stream",
     "text": [
      "my name is sami and age is 19\n"
     ]
    }
   ],
   "source": [
    "print(f\"my name is {name} and age is {age}\")"
   ]
  },
  {
   "cell_type": "code",
   "execution_count": null,
   "id": "2bddb9bb",
   "metadata": {},
   "outputs": [],
   "source": []
  }
 ],
 "metadata": {
  "kernelspec": {
   "display_name": "Python 3",
   "language": "python",
   "name": "python3"
  },
  "language_info": {
   "codemirror_mode": {
    "name": "ipython",
    "version": 3
   },
   "file_extension": ".py",
   "mimetype": "text/x-python",
   "name": "python",
   "nbconvert_exporter": "python",
   "pygments_lexer": "ipython3",
   "version": "3.8.5"
  }
 },
 "nbformat": 4,
 "nbformat_minor": 5
}
