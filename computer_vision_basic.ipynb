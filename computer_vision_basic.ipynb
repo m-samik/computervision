{
 "cells": [
  {
   "cell_type": "markdown",
   "id": "a90a77b9",
   "metadata": {},
   "source": [
    "<img src=\"https://i.imgur.com/V6uxcpY.jpg\" width=\"70%\">\n"
   ]
  },
  {
   "cell_type": "code",
   "execution_count": null,
   "id": "6a18b57c",
   "metadata": {},
   "outputs": [],
   "source": [
    "# CV2 is the module for Computer Vision\n",
    "import cv2"
   ]
  },
  {
   "cell_type": "code",
   "execution_count": 7,
   "id": "bc747ceb",
   "metadata": {},
   "outputs": [],
   "source": [
    "# VideoCapture is the function to connect to our Web Cam Driver . 0 == Main Camera\n",
    "capture=cv2.VideoCapture(0)"
   ]
  },
  {
   "cell_type": "code",
   "execution_count": 8,
   "id": "2dc16255",
   "metadata": {},
   "outputs": [],
   "source": [
    "# ret == True /False\n",
    "# photo == Stores our Picture\n",
    "ret,photo=capture.read()"
   ]
  },
  {
   "cell_type": "code",
   "execution_count": 9,
   "id": "928b4a71",
   "metadata": {},
   "outputs": [],
   "source": [
    "# imshow() function is used to display the picture via python code and waitKey is used to give time to show and destroyall == destroy / close that running picture.\n",
    "cv2.imshow(\"myphoto\" , photo)\n",
    "cv2.waitKey()\n",
    "cv2.destroyAllWindows()"
   ]
  },
  {
   "cell_type": "code",
   "execution_count": 10,
   "id": "9dbbc100",
   "metadata": {},
   "outputs": [],
   "source": [
    "capture.release()"
   ]
  },
  {
   "cell_type": "code",
   "execution_count": null,
   "id": "090935c6",
   "metadata": {},
   "outputs": [],
   "source": []
  }
 ],
 "metadata": {
  "kernelspec": {
   "display_name": "Python 3",
   "language": "python",
   "name": "python3"
  },
  "language_info": {
   "codemirror_mode": {
    "name": "ipython",
    "version": 3
   },
   "file_extension": ".py",
   "mimetype": "text/x-python",
   "name": "python",
   "nbconvert_exporter": "python",
   "pygments_lexer": "ipython3",
   "version": "3.8.5"
  }
 },
 "nbformat": 4,
 "nbformat_minor": 5
}
